{
  "cells": [
    {
      "cell_type": "markdown",
      "metadata": {
        "id": "kg89mZ-mPPpR"
      },
      "source": [
        "###### Assessment"
      ]
    },
    {
      "cell_type": "markdown",
      "metadata": {
        "id": "xGRSHEupPPpW"
      },
      "source": [
        "###### I am going to provide two .csv files , you are supposed to work on them and have to provide solutions to the following problems"
      ]
    },
    {
      "cell_type": "markdown",
      "metadata": {
        "id": "h7YPhPXZPPpX"
      },
      "source": [
        "###### import necessary libraries"
      ]
    },
    {
      "cell_type": "code",
      "execution_count": null,
      "metadata": {
        "id": "N9UPTSlHPPpY"
      },
      "outputs": [],
      "source": [
        "import pandas as pd\n",
        "import numpy as np"
      ]
    },
    {
      "cell_type": "code",
      "source": [
        "df1 = pd.read_csv('college_1.csv')\n",
        "df1.head()"
      ],
      "metadata": {
        "id": "BnqUoS6d4OEP"
      },
      "execution_count": null,
      "outputs": []
    },
    {
      "cell_type": "code",
      "source": [
        "df2 = pd.read_csv('college_2.csv')\n",
        "df2.head()"
      ],
      "metadata": {
        "id": "2vsn8Ebv4T8X"
      },
      "execution_count": null,
      "outputs": []
    },
    {
      "cell_type": "markdown",
      "metadata": {
        "id": "xjITm2MWPPpZ"
      },
      "source": [
        "###### merge those two csv files (after getting as dataframes, get them as a single dataframe)"
      ]
    },
    {
      "cell_type": "code",
      "execution_count": null,
      "metadata": {
        "id": "AnbQj3Q9PPpZ"
      },
      "outputs": [],
      "source": [
        "df = pd.concat([df1,df2],ignore_index = True)\n",
        "df"
      ]
    },
    {
      "cell_type": "markdown",
      "metadata": {
        "id": "Ta41OidyPPpa"
      },
      "source": [
        "###### Take each csv file , split that csv file into multiple categories (example csv files are added in the repo) \n"
      ]
    },
    {
      "cell_type": "markdown",
      "metadata": {
        "id": "-645oh-APPpa"
      },
      "source": [
        "###### consider if the codekata score exceeds 15000 points(present week) then make a csv on those observations as Exceeded expectations.csv\n"
      ]
    },
    {
      "cell_type": "markdown",
      "metadata": {
        "id": "u_0ZnSrLPPpb"
      },
      "source": [
        "###### if  10000<codekata score<15000   (Reached_expectations.csv)\n",
        "\n"
      ]
    },
    {
      "cell_type": "markdown",
      "metadata": {
        "id": "ZPtt76GJPPpc"
      },
      "source": [
        "###### if  7000<codekata score<10000   (Needs_Improvement.csv)\n"
      ]
    },
    {
      "cell_type": "markdown",
      "metadata": {
        "id": "1j02DRXHPPpd"
      },
      "source": [
        "###### if  codekate score < 7000        (Unsatisfactory.csv)"
      ]
    },
    {
      "cell_type": "code",
      "execution_count": null,
      "metadata": {
        "id": "Ks9sGi2aPPpd"
      },
      "outputs": [],
      "source": [
        "df2 = df[df['CodeKata Score']>15000]\n",
        "df2"
      ]
    },
    {
      "cell_type": "code",
      "execution_count": null,
      "metadata": {
        "id": "Gd4Q-JwrPPpd"
      },
      "outputs": [],
      "source": [
        "df2.to_csv('Exceeded expectations.csv')"
      ]
    },
    {
      "cell_type": "code",
      "source": [
        "df3 = df[df['CodeKata Score']>10000]\n",
        "df3 = df3[df3['CodeKata Score']<15000]\n",
        "df3"
      ],
      "metadata": {
        "id": "iX_ua_Md4dF_"
      },
      "execution_count": null,
      "outputs": []
    },
    {
      "cell_type": "code",
      "source": [
        "df3.to_csv('Reached_expectations.csv')"
      ],
      "metadata": {
        "id": "Q7x8cGCC4heo"
      },
      "execution_count": null,
      "outputs": []
    },
    {
      "cell_type": "code",
      "source": [
        "df4 = df[df['CodeKata Score']>7000]\n",
        "df4 = df4[df4['CodeKata Score']<10000]\n",
        "df4"
      ],
      "metadata": {
        "id": "zuIH_c7f4jSX"
      },
      "execution_count": null,
      "outputs": []
    },
    {
      "cell_type": "code",
      "source": [
        "df4.to_csv('Needs_Improvement.csv')"
      ],
      "metadata": {
        "id": "VvD9I2gi4mcP"
      },
      "execution_count": null,
      "outputs": []
    },
    {
      "cell_type": "code",
      "source": [
        "df5 = df[df['CodeKata Score']<7000]\n",
        "df5"
      ],
      "metadata": {
        "id": "-rATsC8f4oXX"
      },
      "execution_count": null,
      "outputs": []
    },
    {
      "cell_type": "code",
      "source": [
        "df5.to_csv('Unsatisfactory.csv')"
      ],
      "metadata": {
        "id": "3beGIKcW4o6M"
      },
      "execution_count": null,
      "outputs": []
    },
    {
      "cell_type": "markdown",
      "metadata": {
        "id": "q276CrHTPPpe"
      },
      "source": [
        "###### Average of previous week geekions vs this week geekions (i.e Previous Geekions vs CodeKata Score)"
      ]
    },
    {
      "cell_type": "code",
      "execution_count": null,
      "metadata": {
        "id": "WNGq_gWqPPpe"
      },
      "outputs": [],
      "source": [
        "x = df['Previous Geekions'].mean()\n",
        "x"
      ]
    },
    {
      "cell_type": "code",
      "source": [
        "y = df['CodeKata Score'].mean()\n",
        "y"
      ],
      "metadata": {
        "id": "LnQNEx3440K3"
      },
      "execution_count": null,
      "outputs": []
    },
    {
      "cell_type": "markdown",
      "metadata": {
        "id": "tQB1sCsyPPpe"
      },
      "source": [
        "###### No of students participated "
      ]
    },
    {
      "cell_type": "code",
      "execution_count": null,
      "metadata": {
        "id": "iUd4RzsYPPpf"
      },
      "outputs": [],
      "source": [
        "len(df['Name'].unique())"
      ]
    },
    {
      "cell_type": "markdown",
      "metadata": {
        "id": "6hCVX44IPPpf"
      },
      "source": [
        "###### #Average completion of python course or my_sql or python english or computational thinking"
      ]
    },
    {
      "cell_type": "code",
      "execution_count": null,
      "metadata": {
        "id": "Qr2ixFPqPPpf"
      },
      "outputs": [],
      "source": [
        "df['python'].mean()"
      ]
    },
    {
      "cell_type": "code",
      "source": [
        "df['mysql'].mean()"
      ],
      "metadata": {
        "id": "B7BCgvBT5AHx"
      },
      "execution_count": null,
      "outputs": []
    },
    {
      "cell_type": "code",
      "source": [
        "df['python_en'].mean()"
      ],
      "metadata": {
        "id": "yvss82NP5Bny"
      },
      "execution_count": null,
      "outputs": []
    },
    {
      "cell_type": "code",
      "source": [
        "df['computational_thinking'].mean()"
      ],
      "metadata": {
        "id": "69KHDAM55DmB"
      },
      "execution_count": null,
      "outputs": []
    },
    {
      "cell_type": "markdown",
      "metadata": {
        "id": "VFl9ID78PPpg"
      },
      "source": [
        "###### rising star of the week (top 3 candidate who performed well in that particular week)"
      ]
    },
    {
      "cell_type": "code",
      "execution_count": null,
      "metadata": {
        "id": "EsBj8r64PPpg"
      },
      "outputs": [],
      "source": [
        "df_rising = df.sort_values(by=['CodeKata Score'],ascending = False)\n",
        "df_rising[:3]"
      ]
    },
    {
      "cell_type": "markdown",
      "metadata": {
        "id": "BKF2gzBPPPpg"
      },
      "source": [
        "###### Shining stars of the week (top 3 candidates who has highest geekions)"
      ]
    },
    {
      "cell_type": "code",
      "execution_count": null,
      "metadata": {
        "id": "L509f8ToPPpg"
      },
      "outputs": [],
      "source": [
        "df_highest = df.sort_values(by=['Previous Geekions'],ascending = False)\n",
        "df_highest[:3]"
      ]
    },
    {
      "cell_type": "markdown",
      "metadata": {
        "id": "DhhTkY9PPPpg"
      },
      "source": [
        "###### Department wise codekata performence (pie chart)"
      ]
    },
    {
      "cell_type": "code",
      "execution_count": null,
      "metadata": {
        "id": "5gNIlz7CPPph"
      },
      "outputs": [],
      "source": [
        "import matplotlib.pyplot as plt\n",
        "import plotly.express as px\n",
        "fig=px.pie(values=df['Previous Geekions'],names=df[\"Department\"])\n",
        "fig.show()\n"
      ]
    },
    {
      "cell_type": "code",
      "source": [
        "fig=px.pie(values=df['CodeKata Score'],names=df[\"Department\"])\n",
        "fig.show()"
      ],
      "metadata": {
        "id": "PyQSrqxu5amg"
      },
      "execution_count": null,
      "outputs": []
    },
    {
      "cell_type": "markdown",
      "metadata": {
        "id": "-a2hULgkPPph"
      },
      "source": [
        "###### Department wise toppers (horizantal bar graph or any visual representations of your choice)"
      ]
    },
    {
      "cell_type": "code",
      "execution_count": null,
      "metadata": {
        "id": "3gg_db2xPPph"
      },
      "outputs": [],
      "source": [
        "fig = px.bar(df, x=\"CodeKata Score\", y=\"Department\", orientation='h')\n",
        "fig.show()"
      ]
    },
    {
      "cell_type": "code",
      "execution_count": null,
      "metadata": {
        "id": "dPdI2-srPPph"
      },
      "outputs": [],
      "source": [
        "fig = px.bar(df, x=\"Previous Geekions\", y=\"Department\", orientation='h')\n",
        "fig.show()"
      ]
    },
    {
      "cell_type": "code",
      "execution_count": null,
      "metadata": {
        "id": "kvdt3xkyPPpi"
      },
      "outputs": [],
      "source": []
    },
    {
      "cell_type": "code",
      "execution_count": null,
      "metadata": {
        "id": "H4VuO4bPPPpi"
      },
      "outputs": [],
      "source": []
    }
  ],
  "metadata": {
    "kernelspec": {
      "display_name": "Python 3",
      "language": "python",
      "name": "python3"
    },
    "language_info": {
      "codemirror_mode": {
        "name": "ipython",
        "version": 3
      },
      "file_extension": ".py",
      "mimetype": "text/x-python",
      "name": "python",
      "nbconvert_exporter": "python",
      "pygments_lexer": "ipython3",
      "version": "3.8.3"
    },
    "colab": {
      "provenance": [],
      "collapsed_sections": []
    }
  },
  "nbformat": 4,
  "nbformat_minor": 0
}